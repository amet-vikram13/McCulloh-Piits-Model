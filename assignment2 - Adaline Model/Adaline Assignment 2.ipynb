{
 "cells": [
  {
   "cell_type": "markdown",
   "metadata": {},
   "source": [
    "# Group 6"
   ]
  },
  {
   "cell_type": "markdown",
   "metadata": {},
   "source": [
    "## Dipak Agrawal, Ishaan Verma, Amet Vikram, Shreya Arora"
   ]
  },
  {
   "cell_type": "markdown",
   "metadata": {},
   "source": [
    "# ADALINE MODEL "
   ]
  },
  {
   "cell_type": "code",
   "execution_count": 1,
   "metadata": {},
   "outputs": [],
   "source": [
    "import numpy as np\n",
    "import pandas as pd\n",
    "import matplotlib.pyplot as plt\n",
    "%matplotlib inline"
   ]
  },
  {
   "cell_type": "markdown",
   "metadata": {},
   "source": [
    "# Model Class "
   ]
  },
  {
   "cell_type": "code",
   "execution_count": 2,
   "metadata": {},
   "outputs": [],
   "source": [
    "class Model:\n",
    "    def __init__(self, no_of_inputs):\n",
    "        \"\"\"\n",
    "        This function is the initialization of the adaline neuron\n",
    "        \"\"\"\n",
    "        self.no_of_inputs = no_of_inputs\n",
    "        self.weight_array = np.random.randn(no_of_inputs, 1)*10 #row vector\n",
    "        print(self.weight_array)\n",
    "        self.bias = 0\n",
    "\n",
    "    def a(self, input_x): #input_x = input vector\n",
    "        \"\"\"\n",
    "        This function is the function what calculates the weighted sum\n",
    "        \"\"\"\n",
    "        return np.dot(input_x, self.weight_array) + self.bias\n",
    "\n",
    "    def acti_func(self, x):               #using the signum function for now\n",
    "        \"\"\"\n",
    "        This is the signum activation function\n",
    "        \"\"\"\n",
    "        if x >= 0:\n",
    "            return 1\n",
    "        else:\n",
    "            return -1\n",
    "\n",
    "    def output(self, input_x):\n",
    "        \"\"\"\n",
    "        This returns the output for a single input\n",
    "        \"\"\"\n",
    "        return self.acti_func(self.a(input_x))\n",
    "    \n",
    "    def fitA(self, epochs, learn_rate, data_set):\n",
    "        \"\"\"\n",
    "        This is the fit function for Case 1 and Case3\n",
    "        \"\"\"\n",
    "        numpy_matrix = data_set.as_matrix()\n",
    "        #print(numpy_matrix.shape)\n",
    "\n",
    "        out_x = []\n",
    "        out_y = []\n",
    "        for i in range(epochs):  #number of iterations = epochs\n",
    "            #print(i)\n",
    "            weight_ARR = self.weight_array\n",
    "            error_A = []\n",
    "            error = 0\n",
    "            for x in range(numpy_matrix.shape[0]):\n",
    "                #print(numpy_matrix[x])\n",
    "                X = numpy_matrix[x][:16]\n",
    "                #print(X)\n",
    "                #print(self.weight_array.shape)\n",
    "                X = X.reshape(16, 1)\n",
    "                #print(X)\n",
    "                error_A.append(numpy_matrix[x][16] - np.transpose(X).dot(weight_ARR))\n",
    "                error = numpy_matrix[x][16] - np.transpose(X).dot(self.weight_array)                           #X is the input vector\n",
    "                self.weight_array = self.weight_array + 2*learn_rate*error*X\n",
    "                self.bias = self.bias + 2*learn_rate*error[0][0] \n",
    "                #print(self.weight_array)\n",
    "                #print(\"#\" + \" \" + str(self.bias))\n",
    "            \n",
    "            sse = 0\n",
    "            for x in range(len(weight_ARR)):\n",
    "                sse = sse + weight_ARR[x]*weight_ARR[x]\n",
    "            \n",
    "            out_x.append(i+1)\n",
    "            out_y.append(sse)\n",
    "        \n",
    "        #plt.xticks([])\n",
    "        plt.yticks([])\n",
    "        plt.ylabel(\"Error\")\n",
    "        plt.xlabel(\"Iterations\")\n",
    "        plt.plot(out_x, out_y)\n",
    "    \n",
    "    def fitB(self, epochs, learn_rate, data_set):\n",
    "        \"\"\"\n",
    "        This is the fit function for Case 2\n",
    "        \"\"\"\n",
    "        numpy_matrix = data_set.as_matrix()\n",
    "        #print(numpy_matrix.shape)\n",
    "\n",
    "        out_x = []\n",
    "        out_y = []\n",
    "        for i in range(epochs):  #number of iterations = epochs\n",
    "            #print(i)\n",
    "            weight_ARR = self.weight_array\n",
    "            #error_A = []\n",
    "            error = 0\n",
    "            for x in range(numpy_matrix.shape[0]):\n",
    "                #print(numpy_matrix[x])\n",
    "                X = numpy_matrix[x][:16]\n",
    "                #print(X)\n",
    "                #print(self.weight_array.shape)\n",
    "                X = X.reshape(16, 1)\n",
    "                #print(X)\n",
    "                #error_A.append(numpy_matrix[x][16] - np.transpose(X).dot(weight_ARR))\n",
    "                error += numpy_matrix[x][16] - np.transpose(X).dot(self.weight_array)                           #X is the input vector\n",
    "                #self.weight_array = self.weight_array + 2*learn_rate*error*X\n",
    "                #self.bias = self.bias + 2*learn_rate*error[0][0] \n",
    "                #print(self.weight_array)\n",
    "                #print(\"#\" + \" \" + str(self.bias))\n",
    "            error = error/8\n",
    "            for x in range(numpy_matrix.shape[0]):\n",
    "                #print(numpy_matrix[x])\n",
    "                X = numpy_matrix[x][:16]\n",
    "                #print(X)\n",
    "                #print(self.weight_array.shape)\n",
    "                X = X.reshape(16, 1)\n",
    "                self.weight_array = self.weight_array + 2*learn_rate*error*X\n",
    "                self.bias = self.bias + 2*learn_rate*error[0][0] \n",
    "            \n",
    "    def test_acc(self, data_set, size):\n",
    "        \"\"\"\n",
    "        This is to check accuracy using test data\n",
    "        \"\"\"\n",
    "        numpy_matrix = data_set.as_matrix()\n",
    "        sum_t = 0\n",
    "        for x in range(numpy_matrix.shape[0]):\n",
    "            #print(numpy_matrix[x])\n",
    "            X = numpy_matrix[x][:16]\n",
    "            #print(X)\n",
    "            #print(self.weight_array.shape)\n",
    "            #X = X.reshape(16, 1)\n",
    "            #print(X)\n",
    "            desired_output = numpy_matrix[x][16]\n",
    "            y_output = self.output(X)\n",
    "            if y_output == desired_output:\n",
    "                sum_t = sum_t + 1\n",
    "                \n",
    "        return sum_t/size\n",
    "        "
   ]
  },
  {
   "cell_type": "markdown",
   "metadata": {},
   "source": [
    "# Graph function"
   ]
  },
  {
   "cell_type": "code",
   "execution_count": 3,
   "metadata": {},
   "outputs": [],
   "source": [
    "def plot_graph(input_x):\n",
    "    \"\"\"\n",
    "    This plots the points given as input\n",
    "    \"\"\"\n",
    "    i = 1\n",
    "    j = 4\n",
    "    x = []\n",
    "    y = []\n",
    "    for x_t in range(len(input_x)):\n",
    "        #print(type(input_x[x_t]))\n",
    "        if input_x[x_t] == 1:\n",
    "            x.append(i)\n",
    "            y.append(j)\n",
    "        i = i + 1\n",
    "        if i == 5:\n",
    "            j = j - 1\n",
    "            i = 1\n",
    "            \n",
    "    plt.ylim(ymin = 0, ymax = 5)\n",
    "    plt.xlim(xmin = 0, xmax = 5)\n",
    "    plt.scatter(x, y)"
   ]
  },
  {
   "cell_type": "markdown",
   "metadata": {},
   "source": [
    "# Adaline for Case 1 and Case 3"
   ]
  },
  {
   "cell_type": "code",
   "execution_count": 4,
   "metadata": {},
   "outputs": [
    {
     "name": "stdout",
     "output_type": "stream",
     "text": [
      "[[ -5.92283298]\n",
      " [  6.14735125]\n",
      " [ -4.43517055]\n",
      " [ -2.00929968]\n",
      " [ -3.40443291]\n",
      " [  6.91148275]\n",
      " [-16.27328173]\n",
      " [ -0.98087513]\n",
      " [-10.89634113]\n",
      " [-11.56428753]\n",
      " [ -2.23951366]\n",
      " [ -3.79935901]\n",
      " [  1.41654752]\n",
      " [-10.08965966]\n",
      " [ -7.33543629]\n",
      " [ -1.95669648]]\n"
     ]
    }
   ],
   "source": [
    "neuronA = Model(16)"
   ]
  },
  {
   "cell_type": "code",
   "execution_count": 5,
   "metadata": {},
   "outputs": [
    {
     "name": "stdout",
     "output_type": "stream",
     "text": [
      "   0  1  2  3  4  5  6  7  8  9  10  11  12  13  14  15  Class\n",
      "0  1  1  1  0  0  1  0  0  0  1   0   0   0   1   0   0      1\n",
      "1  0  0  1  0  0  0  1  0  1  0   1   0   1   1   1   0     -1\n",
      "2  0  1  1  1  0  0  1  0  0  0   1   0   1   1   1   0      1\n",
      "3  0  0  0  1  0  0  0  1  0  1   0   1   0   1   1   1     -1\n",
      "4  0  0  0  0  1  0  0  0  1  1   1   1   1   0   0   0      1\n",
      "5  0  0  0  0  1  1  1  1  1  0   0   0   0   0   0   0     -1\n",
      "6  1  0  0  0  1  1  1  1  0  0   0   1   0   0   1   1      1\n",
      "7  1  0  1  1  0  0  0  1  0  0   1   1   0   0   0   0     -1\n"
     ]
    },
    {
     "name": "stderr",
     "output_type": "stream",
     "text": [
      "/home/dipak/anaconda3/lib/python3.6/site-packages/ipykernel_launcher.py:36: FutureWarning: Method .as_matrix will be removed in a future version. Use .values instead.\n"
     ]
    },
    {
     "data": {
      "image/png": "[encoded data removed]",
      "text/plain": [
       "<Figure size 432x288 with 1 Axes>"
      ]
     },
     "metadata": {},
     "output_type": "display_data"
    }
   ],
   "source": [
    "#Let number of iterations be 10\n",
    "#Let learning rate be 0.01\n",
    "\n",
    "#T is 1\n",
    "#J is -1\n",
    "\n",
    "dict_pre = {'0': [1, 0, 0, 0, 0, 0, 1, 1], '1': [1, 0, 1, 0, 0, 0, 0, 0],\n",
    "            '2': [1, 1, 1, 0, 0, 0, 0, 1], '3': [0, 0, 1, 1, 0, 0, 0, 1],\n",
    "            '4': [0, 0, 0, 0, 1, 1, 1, 0], '5': [1, 0, 0, 0, 0, 1, 1, 0],\n",
    "            '6': [0, 1, 1, 0, 0, 1, 1, 0], '7': [0, 0, 0, 1, 0, 1, 1, 1],\n",
    "            '8': [0, 1, 0, 0, 1, 1, 0, 0], '9': [1, 0, 0, 1, 1, 0, 0, 0],\n",
    "            '10':[0, 1, 1, 0, 1, 0, 0, 1], '11':[0, 0, 0, 1, 1, 0, 1, 1],\n",
    "            '12':[0, 1, 1, 0, 1, 0, 0, 0], '13':[1, 1, 1, 1, 0, 0, 0, 0],\n",
    "            '14':[0, 1, 1, 1, 0, 0, 1, 0], '15':[0, 0, 0, 1, 0, 0, 1, 0]}\n",
    "\n",
    "df = pd.DataFrame(data = dict_pre)\n",
    "df['Class'] = [1, -1, 1, -1, 1, -1, 1, -1]\n",
    "print(df)\n",
    "#print(df)\n",
    "\n",
    "neuronA.fitA(45, 0.1, df)"
   ]
  },
  {
   "cell_type": "code",
   "execution_count": 6,
   "metadata": {},
   "outputs": [
    {
     "name": "stderr",
     "output_type": "stream",
     "text": [
      "/home/dipak/anaconda3/lib/python3.6/site-packages/ipykernel_launcher.py:114: FutureWarning: Method .as_matrix will be removed in a future version. Use .values instead.\n"
     ]
    },
    {
     "data": {
      "text/plain": [
       "0.5"
      ]
     },
     "execution_count": 6,
     "metadata": {},
     "output_type": "execute_result"
    }
   ],
   "source": [
    "neuronA.test_acc(df, 8)"
   ]
  },
  {
   "cell_type": "code",
   "execution_count": 7,
   "metadata": {},
   "outputs": [
    {
     "data": {
      "image/png": "[encoded data removed]",
      "text/plain": [
       "<Figure size 432x288 with 1 Axes>"
      ]
     },
     "metadata": {},
     "output_type": "display_data"
    }
   ],
   "source": [
    "plot_graph([0,0,0,1,0,0,0,1,0,1,0,1,0,1,1,1])"
   ]
  },
  {
   "cell_type": "code",
   "execution_count": 8,
   "metadata": {},
   "outputs": [
    {
     "data": {
      "text/plain": [
       "1"
      ]
     },
     "execution_count": 8,
     "metadata": {},
     "output_type": "execute_result"
    }
   ],
   "source": [
    "neuronA.output([0,0,0,1,0,0,0,1,0,1,0,1,0,1,1,1])"
   ]
  },
  {
   "cell_type": "markdown",
   "metadata": {},
   "source": [
    "# Adaline for Case 2"
   ]
  },
  {
   "cell_type": "code",
   "execution_count": 9,
   "metadata": {},
   "outputs": [
    {
     "name": "stdout",
     "output_type": "stream",
     "text": [
      "[[-21.54582924]\n",
      " [-12.95153833]\n",
      " [  3.57742111]\n",
      " [  3.5612946 ]\n",
      " [  1.60422189]\n",
      " [ -5.01027806]\n",
      " [ -7.65742325]\n",
      " [ -4.7238426 ]\n",
      " [  4.61173886]\n",
      " [-10.87316183]\n",
      " [ -6.26000964]\n",
      " [  5.05030474]\n",
      " [ -3.54209171]\n",
      " [  7.00783561]\n",
      " [  3.42165331]\n",
      " [  9.70772331]]\n"
     ]
    }
   ],
   "source": [
    "neuronB = Model(16)"
   ]
  },
  {
   "cell_type": "code",
   "execution_count": 10,
   "metadata": {},
   "outputs": [
    {
     "name": "stderr",
     "output_type": "stream",
     "text": [
      "/home/dipak/anaconda3/lib/python3.6/site-packages/ipykernel_launcher.py:77: FutureWarning: Method .as_matrix will be removed in a future version. Use .values instead.\n"
     ]
    }
   ],
   "source": [
    "neuronB.fitB(45, 0.1, df)"
   ]
  },
  {
   "cell_type": "code",
   "execution_count": 11,
   "metadata": {},
   "outputs": [
    {
     "name": "stderr",
     "output_type": "stream",
     "text": [
      "/home/dipak/anaconda3/lib/python3.6/site-packages/ipykernel_launcher.py:114: FutureWarning: Method .as_matrix will be removed in a future version. Use .values instead.\n"
     ]
    },
    {
     "data": {
      "text/plain": [
       "0.5"
      ]
     },
     "execution_count": 11,
     "metadata": {},
     "output_type": "execute_result"
    }
   ],
   "source": [
    "neuronB.test_acc(df, 8)"
   ]
  },
  {
   "cell_type": "code",
   "execution_count": 12,
   "metadata": {},
   "outputs": [
    {
     "data": {
      "image/png": "[encoded data removed]",
      "text/plain": [
       "<Figure size 432x288 with 1 Axes>"
      ]
     },
     "metadata": {},
     "output_type": "display_data"
    }
   ],
   "source": [
    "plot_graph([0,0,0,1,0,0,0,1,0,1,0,1,0,1,1,1])"
   ]
  },
  {
   "cell_type": "code",
   "execution_count": 13,
   "metadata": {},
   "outputs": [
    {
     "data": {
      "text/plain": [
       "1"
      ]
     },
     "execution_count": 13,
     "metadata": {},
     "output_type": "execute_result"
    }
   ],
   "source": [
    "neuronB.output([0,0,0,1,0,0,0,1,0,1,0,1,0,1,1,1])"
   ]
  }
 ],
 "metadata": {
  "kernelspec": {
   "display_name": "Python 3",
   "language": "python",
   "name": "python3"
  },
  "language_info": {
   "codemirror_mode": {
    "name": "ipython",
    "version": 3
   },
   "file_extension": ".py",
   "mimetype": "text/x-python",
   "name": "python",
   "nbconvert_exporter": "python",
   "pygments_lexer": "ipython3",
   "version": "3.6.5"
  }
 },
 "nbformat": 4,
 "nbformat_minor": 2
}
